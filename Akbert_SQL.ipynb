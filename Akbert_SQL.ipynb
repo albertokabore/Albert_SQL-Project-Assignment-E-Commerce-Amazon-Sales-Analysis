{
 "cells": [
  {
   "cell_type": "code",
   "execution_count": null,
   "id": "fe7f6bfc",
   "metadata": {},
   "outputs": [],
   "source": []
  },
  {
   "cell_type": "markdown",
   "id": "83026d33",
   "metadata": {},
   "source": [
    "## Albert Kabore"
   ]
  },
  {
   "cell_type": "markdown",
   "id": "8b8ba388",
   "metadata": {},
   "source": [
    "GitHub Repository: https://github.com/albertokabore/Albert_SQL-Project-Assignment-E-Commerce-Amazon-Sales-Analysis"
   ]
  },
  {
   "cell_type": "markdown",
   "id": "87a34453",
   "metadata": {},
   "source": [
    "## Introduction: SQL Project Assignment – E-Commerce Amazon Sales Analysis\n",
    "\n",
    "This project uses an e-commerce dataset sourced from Kaggle, containing transactional data from Amazon. The dataset provides comprehensive insights into sales trends, product performance, order fulfillment status, and customer behavior. An in-depth SQL-based analysis was conducted to uncover key patterns and generate actionable business recommendations."
   ]
  },
  {
   "cell_type": "code",
   "execution_count": 274,
   "id": "e116e1dc",
   "metadata": {},
   "outputs": [
    {
     "name": "stdout",
     "output_type": "stream",
     "text": [
      "Requirement already satisfied: pandas in c:\\users\\alber\\albert_sql-project-assignment-e-commerce-amazon-sales-analysis\\.venv\\lib\\site-packages (2.2.3)\n",
      "Requirement already satisfied: matplotlib in c:\\users\\alber\\albert_sql-project-assignment-e-commerce-amazon-sales-analysis\\.venv\\lib\\site-packages (3.10.3)\n",
      "Requirement already satisfied: seaborn in c:\\users\\alber\\albert_sql-project-assignment-e-commerce-amazon-sales-analysis\\.venv\\lib\\site-packages (0.13.2)\n"
     ]
    },
    {
     "name": "stderr",
     "output_type": "stream",
     "text": [
      "ERROR: Could not find a version that satisfies the requirement sqlite3 (from versions: none)\n",
      "\n",
      "[notice] A new release of pip is available: 24.2 -> 25.1.1\n",
      "[notice] To update, run: python.exe -m pip install --upgrade pip\n",
      "ERROR: No matching distribution found for sqlite3\n"
     ]
    }
   ],
   "source": [
    "!pip install pandas matplotlib seaborn sqlite3 numpy pandas"
   ]
  },
  {
   "cell_type": "markdown",
   "id": "d40a7621",
   "metadata": {},
   "source": []
  },
  {
   "cell_type": "code",
   "execution_count": 275,
   "id": "5eedf923",
   "metadata": {},
   "outputs": [
    {
     "name": "stdout",
     "output_type": "stream",
     "text": [
      "Requirement already satisfied: pandas in c:\\users\\alber\\albert_sql-project-assignment-e-commerce-amazon-sales-analysis\\.venv\\lib\\site-packages (2.2.3)\n",
      "Requirement already satisfied: openpyxl in c:\\users\\alber\\albert_sql-project-assignment-e-commerce-amazon-sales-analysis\\.venv\\lib\\site-packages (3.1.5)\n",
      "Requirement already satisfied: numpy>=1.26.0 in c:\\users\\alber\\albert_sql-project-assignment-e-commerce-amazon-sales-analysis\\.venv\\lib\\site-packages (from pandas) (2.2.6)\n",
      "Requirement already satisfied: python-dateutil>=2.8.2 in c:\\users\\alber\\albert_sql-project-assignment-e-commerce-amazon-sales-analysis\\.venv\\lib\\site-packages (from pandas) (2.9.0.post0)\n",
      "Requirement already satisfied: pytz>=2020.1 in c:\\users\\alber\\albert_sql-project-assignment-e-commerce-amazon-sales-analysis\\.venv\\lib\\site-packages (from pandas) (2025.2)\n",
      "Requirement already satisfied: tzdata>=2022.7 in c:\\users\\alber\\albert_sql-project-assignment-e-commerce-amazon-sales-analysis\\.venv\\lib\\site-packages (from pandas) (2025.2)\n",
      "Requirement already satisfied: et-xmlfile in c:\\users\\alber\\albert_sql-project-assignment-e-commerce-amazon-sales-analysis\\.venv\\lib\\site-packages (from openpyxl) (2.0.0)\n",
      "Requirement already satisfied: six>=1.5 in c:\\users\\alber\\albert_sql-project-assignment-e-commerce-amazon-sales-analysis\\.venv\\lib\\site-packages (from python-dateutil>=2.8.2->pandas) (1.17.0)\n"
     ]
    },
    {
     "name": "stderr",
     "output_type": "stream",
     "text": [
      "\n",
      "[notice] A new release of pip is available: 24.2 -> 25.1.1\n",
      "[notice] To update, run: python.exe -m pip install --upgrade pip\n"
     ]
    }
   ],
   "source": [
    "!pip install pandas openpyxl\n"
   ]
  },
  {
   "cell_type": "code",
   "execution_count": 276,
   "id": "d31df214",
   "metadata": {},
   "outputs": [
    {
     "name": "stdout",
     "output_type": "stream",
     "text": [
      "Requirement already satisfied: pandas in c:\\users\\alber\\albert_sql-project-assignment-e-commerce-amazon-sales-analysis\\.venv\\lib\\site-packages (2.2.3)\n",
      "Requirement already satisfied: matplotlib in c:\\users\\alber\\albert_sql-project-assignment-e-commerce-amazon-sales-analysis\\.venv\\lib\\site-packages (3.10.3)\n",
      "Requirement already satisfied: seaborn in c:\\users\\alber\\albert_sql-project-assignment-e-commerce-amazon-sales-analysis\\.venv\\lib\\site-packages (0.13.2)\n",
      "Requirement already satisfied: numpy>=1.26.0 in c:\\users\\alber\\albert_sql-project-assignment-e-commerce-amazon-sales-analysis\\.venv\\lib\\site-packages (from pandas) (2.2.6)\n",
      "Requirement already satisfied: python-dateutil>=2.8.2 in c:\\users\\alber\\albert_sql-project-assignment-e-commerce-amazon-sales-analysis\\.venv\\lib\\site-packages (from pandas) (2.9.0.post0)\n",
      "Requirement already satisfied: pytz>=2020.1 in c:\\users\\alber\\albert_sql-project-assignment-e-commerce-amazon-sales-analysis\\.venv\\lib\\site-packages (from pandas) (2025.2)\n",
      "Requirement already satisfied: tzdata>=2022.7 in c:\\users\\alber\\albert_sql-project-assignment-e-commerce-amazon-sales-analysis\\.venv\\lib\\site-packages (from pandas) (2025.2)\n",
      "Requirement already satisfied: contourpy>=1.0.1 in c:\\users\\alber\\albert_sql-project-assignment-e-commerce-amazon-sales-analysis\\.venv\\lib\\site-packages (from matplotlib) (1.3.2)\n",
      "Requirement already satisfied: cycler>=0.10 in c:\\users\\alber\\albert_sql-project-assignment-e-commerce-amazon-sales-analysis\\.venv\\lib\\site-packages (from matplotlib) (0.12.1)\n",
      "Requirement already satisfied: fonttools>=4.22.0 in c:\\users\\alber\\albert_sql-project-assignment-e-commerce-amazon-sales-analysis\\.venv\\lib\\site-packages (from matplotlib) (4.58.1)\n",
      "Requirement already satisfied: kiwisolver>=1.3.1 in c:\\users\\alber\\albert_sql-project-assignment-e-commerce-amazon-sales-analysis\\.venv\\lib\\site-packages (from matplotlib) (1.4.8)\n",
      "Requirement already satisfied: packaging>=20.0 in c:\\users\\alber\\albert_sql-project-assignment-e-commerce-amazon-sales-analysis\\.venv\\lib\\site-packages (from matplotlib) (25.0)\n",
      "Requirement already satisfied: pillow>=8 in c:\\users\\alber\\albert_sql-project-assignment-e-commerce-amazon-sales-analysis\\.venv\\lib\\site-packages (from matplotlib) (11.2.1)\n",
      "Requirement already satisfied: pyparsing>=2.3.1 in c:\\users\\alber\\albert_sql-project-assignment-e-commerce-amazon-sales-analysis\\.venv\\lib\\site-packages (from matplotlib) (3.2.3)\n",
      "Requirement already satisfied: six>=1.5 in c:\\users\\alber\\albert_sql-project-assignment-e-commerce-amazon-sales-analysis\\.venv\\lib\\site-packages (from python-dateutil>=2.8.2->pandas) (1.17.0)\n"
     ]
    },
    {
     "name": "stderr",
     "output_type": "stream",
     "text": [
      "\n",
      "[notice] A new release of pip is available: 24.2 -> 25.1.1\n",
      "[notice] To update, run: python.exe -m pip install --upgrade pip\n"
     ]
    }
   ],
   "source": [
    "!pip install  pandas matplotlib seaborn"
   ]
  },
  {
   "cell_type": "code",
   "execution_count": 277,
   "id": "6b951c9f",
   "metadata": {},
   "outputs": [],
   "source": [
    "import pandas as pd\n",
    "import matplotlib.pyplot as plt\n",
    "import numpy as np\n",
    "import sqlite3\n",
    "\n"
   ]
  },
  {
   "cell_type": "code",
   "execution_count": null,
   "id": "14b473e2",
   "metadata": {},
   "outputs": [],
   "source": []
  },
  {
   "cell_type": "code",
   "execution_count": 278,
   "id": "0f74e730",
   "metadata": {},
   "outputs": [
    {
     "name": "stdout",
     "output_type": "stream",
     "text": [
      " Excel file imported into SQLite database as 'sales' table.\n"
     ]
    }
   ],
   "source": [
    "import pandas as pd\n",
    "import sqlite3\n",
    "# Load the Excel file\n",
    "df = pd.read_excel(\"Amazon Sale Report.xlsx\")  # Ensure this file is in the same folder\n",
    "\n",
    "# Connect to SQLite DB (creates file if it doesn't exist)\n",
    "conn = sqlite3.connect(\"amazon_sales.db\")\n",
    "\n",
    "# Write the data into a table named 'sales'\n",
    "df.to_sql(\"sales\", conn, if_exists=\"replace\", index=False)\n",
    "\n",
    "print(\" Excel file imported into SQLite database as 'sales' table.\")\n",
    "conn.close()"
   ]
  },
  {
   "cell_type": "code",
   "execution_count": 279,
   "id": "6561dcb3",
   "metadata": {},
   "outputs": [
    {
     "name": "stdout",
     "output_type": "stream",
     "text": [
      "   index             Order ID       Date                        Status  \\\n",
      "0      0  405-8078784-5731545 2022-04-30                     Cancelled   \n",
      "1      1  171-9198151-1101146 2022-04-30  Shipped - Delivered to Buyer   \n",
      "2      2  404-0687676-7273146 2022-04-30                       Shipped   \n",
      "3      3  403-9615377-8133951 2022-04-30                     Cancelled   \n",
      "4      4  407-1069790-7240320 2022-04-30                       Shipped   \n",
      "\n",
      "  Fulfilment Sales Channel  ship-service-level    Style              SKU  \\\n",
      "0   Merchant      Amazon.in           Standard   SET389   SET389-KR-NP-S   \n",
      "1   Merchant      Amazon.in           Standard  JNE3781  JNE3781-KR-XXXL   \n",
      "2     Amazon      Amazon.in          Expedited  JNE3371    JNE3371-KR-XL   \n",
      "3   Merchant      Amazon.in           Standard    J0341       J0341-DR-L   \n",
      "4     Amazon      Amazon.in          Expedited  JNE3671  JNE3671-TU-XXXL   \n",
      "\n",
      "        Category  ... currency  Amount    ship-city   ship-state  \\\n",
      "0            Set  ...      INR  647.62       MUMBAI  MAHARASHTRA   \n",
      "1          kurta  ...      INR  406.00    BENGALURU    KARNATAKA   \n",
      "2          kurta  ...      INR  329.00  NAVI MUMBAI  MAHARASHTRA   \n",
      "3  Western Dress  ...      INR  753.33   PUDUCHERRY   PUDUCHERRY   \n",
      "4            Top  ...      INR  574.00      CHENNAI   TAMIL NADU   \n",
      "\n",
      "  ship-postal-code  ship-country  \\\n",
      "0         400081.0            IN   \n",
      "1         560085.0            IN   \n",
      "2         410210.0            IN   \n",
      "3         605008.0            IN   \n",
      "4         600073.0            IN   \n",
      "\n",
      "                                       promotion-ids    B2B  fulfilled-by  \\\n",
      "0                                                NaN  False     Easy Ship   \n",
      "1  Amazon PLCC Free-Financing Universal Merchant ...  False     Easy Ship   \n",
      "2       IN Core Free Shipping 2015/04/08 23-48-5-108   True           NaN   \n",
      "3                                                NaN  False     Easy Ship   \n",
      "4                                                NaN  False           NaN   \n",
      "\n",
      "  Unnamed: 22  \n",
      "0         NaN  \n",
      "1         NaN  \n",
      "2         NaN  \n",
      "3         NaN  \n",
      "4         NaN  \n",
      "\n",
      "[5 rows x 24 columns]\n"
     ]
    }
   ],
   "source": [
    "# Inspect first rows of the DataFrame\n",
    "print(df.head())"
   ]
  },
  {
   "cell_type": "code",
   "execution_count": 280,
   "id": "39eb01ec",
   "metadata": {},
   "outputs": [
    {
     "name": "stdout",
     "output_type": "stream",
     "text": [
      "   index             Order ID       Date                        Status  \\\n",
      "0      0  405-8078784-5731545 2022-04-30                     Cancelled   \n",
      "1      1  171-9198151-1101146 2022-04-30  Shipped - Delivered to Buyer   \n",
      "2      2  404-0687676-7273146 2022-04-30                       Shipped   \n",
      "3      3  403-9615377-8133951 2022-04-30                     Cancelled   \n",
      "4      4  407-1069790-7240320 2022-04-30                       Shipped   \n",
      "5      5  404-1490984-4578765 2022-04-30                       Shipped   \n",
      "6      6  408-5748499-6859555 2022-04-30                       Shipped   \n",
      "7      7  406-7807733-3785945 2022-04-30  Shipped - Delivered to Buyer   \n",
      "8      8  407-5443024-5233168 2022-04-30                     Cancelled   \n",
      "9      9  402-4393761-0311520 2022-04-30                       Shipped   \n",
      "\n",
      "  Fulfilment Sales Channel  ship-service-level    Style                  SKU  \\\n",
      "0   Merchant      Amazon.in           Standard   SET389       SET389-KR-NP-S   \n",
      "1   Merchant      Amazon.in           Standard  JNE3781      JNE3781-KR-XXXL   \n",
      "2     Amazon      Amazon.in          Expedited  JNE3371        JNE3371-KR-XL   \n",
      "3   Merchant      Amazon.in           Standard    J0341           J0341-DR-L   \n",
      "4     Amazon      Amazon.in          Expedited  JNE3671      JNE3671-TU-XXXL   \n",
      "5     Amazon      Amazon.in          Expedited   SET264      SET264-KR-NP-XL   \n",
      "6     Amazon      Amazon.in          Expedited    J0095          J0095-SET-L   \n",
      "7   Merchant      Amazon.in           Standard  JNE3405         JNE3405-KR-S   \n",
      "8     Amazon      Amazon.in          Expedited   SET200  SET200-KR-NP-A-XXXL   \n",
      "9     Amazon      Amazon.in          Expedited  JNE3461       JNE3461-KR-XXL   \n",
      "\n",
      "        Category  ... currency  Amount    ship-city     ship-state  \\\n",
      "0            Set  ...      INR  647.62       MUMBAI    MAHARASHTRA   \n",
      "1          kurta  ...      INR  406.00    BENGALURU      KARNATAKA   \n",
      "2          kurta  ...      INR  329.00  NAVI MUMBAI    MAHARASHTRA   \n",
      "3  Western Dress  ...      INR  753.33   PUDUCHERRY     PUDUCHERRY   \n",
      "4            Top  ...      INR  574.00      CHENNAI     TAMIL NADU   \n",
      "5            Set  ...      INR  824.00    GHAZIABAD  UTTAR PRADESH   \n",
      "6            Set  ...      INR  653.00   CHANDIGARH     CHANDIGARH   \n",
      "7          kurta  ...      INR  399.00    HYDERABAD      TELANGANA   \n",
      "8            Set  ...      NaN     NaN    HYDERABAD      TELANGANA   \n",
      "9          kurta  ...      INR  363.00      Chennai     TAMIL NADU   \n",
      "\n",
      "  ship-postal-code  ship-country  \\\n",
      "0         400081.0            IN   \n",
      "1         560085.0            IN   \n",
      "2         410210.0            IN   \n",
      "3         605008.0            IN   \n",
      "4         600073.0            IN   \n",
      "5         201102.0            IN   \n",
      "6         160036.0            IN   \n",
      "7         500032.0            IN   \n",
      "8         500008.0            IN   \n",
      "9         600041.0            IN   \n",
      "\n",
      "                                       promotion-ids    B2B  fulfilled-by  \\\n",
      "0                                                NaN  False     Easy Ship   \n",
      "1  Amazon PLCC Free-Financing Universal Merchant ...  False     Easy Ship   \n",
      "2       IN Core Free Shipping 2015/04/08 23-48-5-108   True           NaN   \n",
      "3                                                NaN  False     Easy Ship   \n",
      "4                                                NaN  False           NaN   \n",
      "5       IN Core Free Shipping 2015/04/08 23-48-5-108  False           NaN   \n",
      "6       IN Core Free Shipping 2015/04/08 23-48-5-108  False           NaN   \n",
      "7  Amazon PLCC Free-Financing Universal Merchant ...  False     Easy Ship   \n",
      "8       IN Core Free Shipping 2015/04/08 23-48-5-108  False           NaN   \n",
      "9                                                NaN  False           NaN   \n",
      "\n",
      "  Unnamed: 22  \n",
      "0         NaN  \n",
      "1         NaN  \n",
      "2         NaN  \n",
      "3         NaN  \n",
      "4         NaN  \n",
      "5         NaN  \n",
      "6         NaN  \n",
      "7         NaN  \n",
      "8         NaN  \n",
      "9         NaN  \n",
      "\n",
      "[10 rows x 24 columns]\n",
      "(128975, 24)\n",
      "index                          int64\n",
      "Order ID                      object\n",
      "Date                  datetime64[ns]\n",
      "Status                        object\n",
      "Fulfilment                    object\n",
      "Sales Channel                 object\n",
      "ship-service-level            object\n",
      "Style                         object\n",
      "SKU                           object\n",
      "Category                      object\n",
      "Size                          object\n",
      "ASIN                          object\n",
      "Courier Status                object\n",
      "Qty                            int64\n",
      "currency                      object\n",
      "Amount                       float64\n",
      "ship-city                     object\n",
      "ship-state                    object\n",
      "ship-postal-code             float64\n",
      "ship-country                  object\n",
      "promotion-ids                 object\n",
      "B2B                             bool\n",
      "fulfilled-by                  object\n",
      "Unnamed: 22                  float64\n",
      "dtype: object\n"
     ]
    }
   ],
   "source": [
    "print(df.head(10))\n",
    "print(df.shape)\n",
    "print(df.dtypes)"
   ]
  },
  {
   "cell_type": "code",
   "execution_count": 281,
   "id": "91c001d8",
   "metadata": {},
   "outputs": [
    {
     "name": "stdout",
     "output_type": "stream",
     "text": [
      "🔍 Missing values per column:\n",
      "index                     0\n",
      "Order ID                  0\n",
      "Date                      0\n",
      "Status                    0\n",
      "Fulfilment                0\n",
      "Sales Channel             0\n",
      "ship-service-level        0\n",
      "Style                     0\n",
      "SKU                       0\n",
      "Category                  0\n",
      "Size                      0\n",
      "ASIN                      0\n",
      "Courier Status         6872\n",
      "Qty                       0\n",
      "currency               7795\n",
      "Amount                 7795\n",
      "ship-city                33\n",
      "ship-state               33\n",
      "ship-postal-code         33\n",
      "ship-country             33\n",
      "promotion-ids         49153\n",
      "B2B                       0\n",
      "fulfilled-by          89698\n",
      "Unnamed: 22           49050\n",
      "dtype: int64\n"
     ]
    }
   ],
   "source": [
    "# Step 1: View missing values\n",
    "print(\"🔍 Missing values per column:\")\n",
    "print(df.isnull().sum())"
   ]
  },
  {
   "cell_type": "markdown",
   "id": "0352e3a1",
   "metadata": {},
   "source": [
    "### Initial Descriptive Statistics"
   ]
  },
  {
   "cell_type": "code",
   "execution_count": 282,
   "id": "5839ddcb",
   "metadata": {},
   "outputs": [
    {
     "name": "stdout",
     "output_type": "stream",
     "text": [
      "               index                           Date            Qty  \\\n",
      "count  128975.000000                         128975  128975.000000   \n",
      "mean    64487.000000  2022-05-12 11:49:27.951928576       0.904431   \n",
      "min         0.000000            2022-03-31 00:00:00       0.000000   \n",
      "25%     32243.500000            2022-04-20 00:00:00       1.000000   \n",
      "50%     64487.000000            2022-05-10 00:00:00       1.000000   \n",
      "75%     96730.500000            2022-06-04 00:00:00       1.000000   \n",
      "max    128974.000000            2022-06-29 00:00:00      15.000000   \n",
      "std     37232.019822                            NaN       0.313354   \n",
      "\n",
      "              Amount  ship-postal-code  Unnamed: 22  \n",
      "count  121180.000000     128942.000000      79925.0  \n",
      "mean      648.561465     463966.236509          0.0  \n",
      "min         0.000000     110001.000000          0.0  \n",
      "25%       449.000000     382421.000000          0.0  \n",
      "50%       605.000000     500033.000000          0.0  \n",
      "75%       788.000000     600024.000000          0.0  \n",
      "max      5584.000000     989898.000000          0.0  \n",
      "std       281.211687     191476.764941          0.0  \n"
     ]
    }
   ],
   "source": [
    "print(df.describe())\n"
   ]
  },
  {
   "cell_type": "code",
   "execution_count": 283,
   "id": "2386b971",
   "metadata": {},
   "outputs": [
    {
     "name": "stdout",
     "output_type": "stream",
     "text": [
      "Original columns: ['index', 'Order ID', 'Date', 'Status', 'Fulfilment', 'Sales Channel ', 'ship-service-level', 'Style', 'SKU', 'Category', 'Size', 'ASIN', 'Courier Status', 'Qty', 'currency', 'Amount', 'ship-city', 'ship-state', 'ship-postal-code', 'ship-country', 'promotion-ids', 'B2B', 'fulfilled-by', 'Unnamed: 22']\n"
     ]
    }
   ],
   "source": [
    "# Step 2: Display original column names\n",
    "print(\"Original columns:\", df.columns.tolist())"
   ]
  },
  {
   "cell_type": "code",
   "execution_count": 284,
   "id": "84d3ed80",
   "metadata": {},
   "outputs": [],
   "source": [
    "# Step 3: Drop rows with critical missing values\n",
    "df = df.dropna(subset=[\"Order ID\", \"Date\", \"Qty\", \"Amount\"])\n"
   ]
  },
  {
   "cell_type": "code",
   "execution_count": 285,
   "id": "b0c2ef6f",
   "metadata": {},
   "outputs": [],
   "source": [
    "# Step 4: Rename columns for SQL compatibility\n",
    "df.rename(columns={\n",
    "    \"Order ID\": \"Order_ID\",\n",
    "    \"Date\": \"Order_Date\",\n",
    "    \"Sales Channel \": \"Sales_Channel\",\n",
    "    \"ship-service-level\": \"Ship_Service_Level\",\n",
    "    \"Courier Status\": \"Courier_Status\",\n",
    "    \"Qty\": \"Quantity_Ordered\",\n",
    "    \"Amount\": \"Total_Revenue\",\n",
    "    \"ship-city\": \"Ship_City\",\n",
    "    \"ship-state\": \"Ship_State\",\n",
    "    \"ship-postal-code\": \"Ship_Postal_Code\",\n",
    "    \"ship-country\": \"Ship_Country\"\n",
    "}, inplace=True)\n",
    "\n"
   ]
  },
  {
   "cell_type": "code",
   "execution_count": 286,
   "id": "ac102ecc",
   "metadata": {},
   "outputs": [],
   "source": [
    "# Step 5: Drop unnamed columns (like 'Unnamed: 22' or similar)\n",
    "df = df.loc[:, ~df.columns.str.contains('^Unnamed')]\n",
    "\n"
   ]
  },
  {
   "cell_type": "code",
   "execution_count": 287,
   "id": "e849fc06",
   "metadata": {},
   "outputs": [],
   "source": [
    "# Step 6: Convert data types\n",
    "df[\"Order_Date\"] = pd.to_datetime(df[\"Order_Date\"], errors='coerce')\n",
    "df[\"Quantity_Ordered\"] = pd.to_numeric(df[\"Quantity_Ordered\"], errors='coerce')\n",
    "df[\"Total_Revenue\"] = pd.to_numeric(df[\"Total_Revenue\"], errors='coerce')\n",
    "\n"
   ]
  },
  {
   "cell_type": "code",
   "execution_count": 288,
   "id": "62b84324",
   "metadata": {},
   "outputs": [],
   "source": [
    "# Step 7: Remove duplicate rows\n",
    "df.drop_duplicates(inplace=True)\n",
    "\n"
   ]
  },
  {
   "cell_type": "code",
   "execution_count": 289,
   "id": "084b4dae",
   "metadata": {},
   "outputs": [
    {
     "name": "stdout",
     "output_type": "stream",
     "text": [
      " Data cleaning completed and saved to SQLite as 'sales' table.\n"
     ]
    }
   ],
   "source": [
    "# Step 8: Export cleaned DataFrame to SQLite\n",
    "conn = sqlite3.connect(\"amazon_sales.db\")\n",
    "df.to_sql(\"sales\", conn, if_exists=\"replace\", index=False)\n",
    "conn.close()\n",
    "\n",
    "print(\" Data cleaning completed and saved to SQLite as 'sales' table.\")"
   ]
  },
  {
   "cell_type": "code",
   "execution_count": 290,
   "id": "06f7b945",
   "metadata": {},
   "outputs": [],
   "source": [
    "# Connect to the SQLite database (local path relative to script)\n",
    "conn = sqlite3.connect(\"amazon_sales.db\")\n",
    "\n",
    "# Query 1: Top 10 Products by Revenue\n",
    "query1 = \"\"\"\n",
    "SELECT \"Product Name\", SUM(\"Total Revenue\") AS Revenue\n",
    "FROM sales\n",
    "GROUP BY \"Product Name\"\n",
    "ORDER BY Revenue DESC\n",
    "LIMIT 10;\n",
    "\"\"\"\n",
    "top_products_df = pd.read_sql_query(query1, conn)\n",
    "\n",
    "# Query 2: Monthly Revenue Trend\n",
    "query2 = \"\"\"\n",
    "SELECT STRFTIME('%Y-%m', \"Order Date\") AS Month, \n",
    "       SUM(\"Total Revenue\") AS Revenue\n",
    "FROM sales\n",
    "GROUP BY Month\n",
    "ORDER BY Month;\n",
    "\"\"\"\n",
    "monthly_revenue_df = pd.read_sql_query(query2, conn)\n",
    "\n",
    "conn.close()\n",
    "\n"
   ]
  },
  {
   "cell_type": "code",
   "execution_count": 291,
   "id": "15363711",
   "metadata": {},
   "outputs": [
    {
     "name": "stdout",
     "output_type": "stream",
     "text": [
      "['index', 'Order_ID', 'Order_Date', 'Status', 'Fulfilment', 'Sales_Channel', 'Ship_Service_Level', 'Style', 'SKU', 'Category', 'Size', 'ASIN', 'Courier_Status', 'Quantity_Ordered', 'currency', 'Total_Revenue', 'Ship_City', 'Ship_State', 'Ship_Postal_Code', 'Ship_Country', 'promotion-ids', 'B2B', 'fulfilled-by']\n"
     ]
    }
   ],
   "source": [
    "\n",
    "\n",
    "# Confirm column names\n",
    "print(df.columns.tolist())  # Optional debug step\n",
    "\n"
   ]
  },
  {
   "cell_type": "markdown",
   "id": "a1db9efe",
   "metadata": {},
   "source": [
    "#### Monthly Sales Trend"
   ]
  },
  {
   "cell_type": "code",
   "execution_count": 292,
   "id": "02cf18a9",
   "metadata": {},
   "outputs": [
    {
     "data": {
      "image/png": "[encoded data removed]",
      "text/plain": [
       "<Figure size 1200x600 with 1 Axes>"
      ]
     },
     "metadata": {},
     "output_type": "display_data"
    }
   ],
   "source": [
    "# Plot 1: Monthly Sales Trend\n",
    "plt.figure(figsize=(12, 6))\n",
    "sns.lineplot(data=monthly_sales, x=\"Date\", y=\"Revenue\", marker=\"o\")\n",
    "plt.title(\"Monthly Sales Trends\")\n",
    "plt.xticks(rotation=45)\n",
    "plt.ylabel(\"Revenue\")\n",
    "plt.xlabel(\"Month\")\n",
    "plt.tight_layout()\n",
    "plt.show()"
   ]
  },
  {
   "cell_type": "markdown",
   "id": "857d2e3c",
   "metadata": {},
   "source": [
    "#### Category Performance"
   ]
  },
  {
   "cell_type": "code",
   "execution_count": 293,
   "id": "ad7c8e66",
   "metadata": {},
   "outputs": [
    {
     "ename": "KeyError",
     "evalue": "'Column not found: Revenue'",
     "output_type": "error",
     "traceback": [
      "\u001b[31m---------------------------------------------------------------------------\u001b[39m",
      "\u001b[31mKeyError\u001b[39m                                  Traceback (most recent call last)",
      "\u001b[36mCell\u001b[39m\u001b[36m \u001b[39m\u001b[32mIn[293]\u001b[39m\u001b[32m, line 2\u001b[39m\n\u001b[32m      1\u001b[39m \u001b[38;5;66;03m# Plot 2: Category Performance\u001b[39;00m\n\u001b[32m----> \u001b[39m\u001b[32m2\u001b[39m category_sales = \u001b[43mdf\u001b[49m\u001b[43m.\u001b[49m\u001b[43mgroupby\u001b[49m\u001b[43m(\u001b[49m\u001b[33;43m\"\u001b[39;49m\u001b[33;43mCategory\u001b[39;49m\u001b[33;43m\"\u001b[39;49m\u001b[43m)\u001b[49m\u001b[43m[\u001b[49m\u001b[33;43m\"\u001b[39;49m\u001b[33;43mRevenue\u001b[39;49m\u001b[33;43m\"\u001b[39;49m\u001b[43m]\u001b[49m.sum().sort_values(ascending=\u001b[38;5;28;01mFalse\u001b[39;00m).reset_index()\n\u001b[32m      4\u001b[39m plt.figure(figsize=(\u001b[32m10\u001b[39m, \u001b[32m6\u001b[39m))\n\u001b[32m      5\u001b[39m sns.barplot(data=category_sales, x=\u001b[33m\"\u001b[39m\u001b[33mRevenue\u001b[39m\u001b[33m\"\u001b[39m, y=\u001b[33m\"\u001b[39m\u001b[33mCategory\u001b[39m\u001b[33m\"\u001b[39m, palette=\u001b[33m\"\u001b[39m\u001b[33mGreens_d\u001b[39m\u001b[33m\"\u001b[39m)\n",
      "\u001b[36mFile \u001b[39m\u001b[32mc:\\Users\\alber\\Albert_SQL-Project-Assignment-E-Commerce-Amazon-Sales-Analysis\\.venv\\Lib\\site-packages\\pandas\\core\\groupby\\generic.py:1951\u001b[39m, in \u001b[36mDataFrameGroupBy.__getitem__\u001b[39m\u001b[34m(self, key)\u001b[39m\n\u001b[32m   1944\u001b[39m \u001b[38;5;28;01mif\u001b[39;00m \u001b[38;5;28misinstance\u001b[39m(key, \u001b[38;5;28mtuple\u001b[39m) \u001b[38;5;129;01mand\u001b[39;00m \u001b[38;5;28mlen\u001b[39m(key) > \u001b[32m1\u001b[39m:\n\u001b[32m   1945\u001b[39m     \u001b[38;5;66;03m# if len == 1, then it becomes a SeriesGroupBy and this is actually\u001b[39;00m\n\u001b[32m   1946\u001b[39m     \u001b[38;5;66;03m# valid syntax, so don't raise\u001b[39;00m\n\u001b[32m   1947\u001b[39m     \u001b[38;5;28;01mraise\u001b[39;00m \u001b[38;5;167;01mValueError\u001b[39;00m(\n\u001b[32m   1948\u001b[39m         \u001b[33m\"\u001b[39m\u001b[33mCannot subset columns with a tuple with more than one element. \u001b[39m\u001b[33m\"\u001b[39m\n\u001b[32m   1949\u001b[39m         \u001b[33m\"\u001b[39m\u001b[33mUse a list instead.\u001b[39m\u001b[33m\"\u001b[39m\n\u001b[32m   1950\u001b[39m     )\n\u001b[32m-> \u001b[39m\u001b[32m1951\u001b[39m \u001b[38;5;28;01mreturn\u001b[39;00m \u001b[38;5;28;43msuper\u001b[39;49m\u001b[43m(\u001b[49m\u001b[43m)\u001b[49m\u001b[43m.\u001b[49m\u001b[34;43m__getitem__\u001b[39;49m\u001b[43m(\u001b[49m\u001b[43mkey\u001b[49m\u001b[43m)\u001b[49m\n",
      "\u001b[36mFile \u001b[39m\u001b[32mc:\\Users\\alber\\Albert_SQL-Project-Assignment-E-Commerce-Amazon-Sales-Analysis\\.venv\\Lib\\site-packages\\pandas\\core\\base.py:244\u001b[39m, in \u001b[36mSelectionMixin.__getitem__\u001b[39m\u001b[34m(self, key)\u001b[39m\n\u001b[32m    242\u001b[39m \u001b[38;5;28;01melse\u001b[39;00m:\n\u001b[32m    243\u001b[39m     \u001b[38;5;28;01mif\u001b[39;00m key \u001b[38;5;129;01mnot\u001b[39;00m \u001b[38;5;129;01min\u001b[39;00m \u001b[38;5;28mself\u001b[39m.obj:\n\u001b[32m--> \u001b[39m\u001b[32m244\u001b[39m         \u001b[38;5;28;01mraise\u001b[39;00m \u001b[38;5;167;01mKeyError\u001b[39;00m(\u001b[33mf\u001b[39m\u001b[33m\"\u001b[39m\u001b[33mColumn not found: \u001b[39m\u001b[38;5;132;01m{\u001b[39;00mkey\u001b[38;5;132;01m}\u001b[39;00m\u001b[33m\"\u001b[39m)\n\u001b[32m    245\u001b[39m     ndim = \u001b[38;5;28mself\u001b[39m.obj[key].ndim\n\u001b[32m    246\u001b[39m     \u001b[38;5;28;01mreturn\u001b[39;00m \u001b[38;5;28mself\u001b[39m._gotitem(key, ndim=ndim)\n",
      "\u001b[31mKeyError\u001b[39m: 'Column not found: Revenue'"
     ]
    }
   ],
   "source": [
    "# Plot 2: Category Performance\n",
    "category_sales = df.groupby(\"Category\")[\"Revenue\"].sum().sort_values(ascending=False).reset_index()\n",
    "\n",
    "plt.figure(figsize=(10, 6))\n",
    "sns.barplot(data=category_sales, x=\"Revenue\", y=\"Category\", palette=\"Greens_d\")\n",
    "plt.title(\"Category Performance\")\n",
    "plt.xlabel(\"Total Revenue\")\n",
    "plt.ylabel(\"Category\")\n",
    "plt.tight_layout()\n",
    "plt.show()\n",
    "\n"
   ]
  },
  {
   "cell_type": "markdown",
   "id": "c1b0ca51",
   "metadata": {},
   "source": [
    "#### Courier Status Impact"
   ]
  },
  {
   "cell_type": "code",
   "execution_count": null,
   "id": "f5e75858",
   "metadata": {},
   "outputs": [
    {
     "name": "stderr",
     "output_type": "stream",
     "text": [
      "C:\\Users\\alber\\AppData\\Local\\Temp\\ipykernel_38684\\1400089418.py:5: FutureWarning: \n",
      "\n",
      "Passing `palette` without assigning `hue` is deprecated and will be removed in v0.14.0. Assign the `y` variable to `hue` and set `legend=False` for the same effect.\n",
      "\n",
      "  sns.barplot(data=courier_status_sales, x=\"Revenue\", y=\"Courier Status\", palette=\"Oranges_d\")\n"
     ]
    },
    {
     "data": {
      "image/png": "[encoded data removed]",
      "text/plain": [
       "<Figure size 1000x600 with 1 Axes>"
      ]
     },
     "metadata": {},
     "output_type": "display_data"
    },
    {
     "data": {
      "text/plain": [
       "(      Date     Revenue\n",
       " 0  2022-03     98261.0\n",
       " 1  2022-04  27847245.0\n",
       " 2  2022-05  25326683.0\n",
       " 3  2022-06  22762217.0,\n",
       "         Category     Revenue\n",
       " 0            Set  37934434.0\n",
       " 1          kurta  20675349.0\n",
       " 2  Western Dress  10707932.0\n",
       " 3            Top   5242931.0\n",
       " 4   Ethnic Dress    762949.0,\n",
       "   Courier Status     Revenue\n",
       " 0        Shipped  71653294.0\n",
       " 1      Unshipped   4381112.0)"
      ]
     },
     "execution_count": 133,
     "metadata": {},
     "output_type": "execute_result"
    }
   ],
   "source": [
    "# Plot 3: Courier Status Impact\n",
    "courier_status_sales = df.groupby(\"Courier Status\")[\"Revenue\"].sum().sort_values(ascending=False).reset_index()\n",
    "\n",
    "plt.figure(figsize=(10, 6))\n",
    "sns.barplot(data=courier_status_sales, x=\"Revenue\", y=\"Courier Status\", palette=\"Oranges_d\")\n",
    "plt.title(\"Courier Status Impact on Revenue\")\n",
    "plt.xlabel(\"Total Revenue\")\n",
    "plt.ylabel(\"Courier Status\")\n",
    "plt.tight_layout()\n",
    "plt.show()\n",
    "\n",
    "# Output the summary data used for the plots\n",
    "monthly_sales.head(), category_sales.head(), courier_status_sales.head()"
   ]
  },
  {
   "cell_type": "markdown",
   "id": "029d8598",
   "metadata": {},
   "source": [
    "## Key Findings and Recommendations\n"
   ]
  },
  {
   "cell_type": "markdown",
   "id": "7e546b6c",
   "metadata": {},
   "source": [
    "\n",
    "1. Underperforming Categories and Sizes\n",
    "\n",
    "Insight: Categories such as Ethnic Dress and Tunic show \n",
    "significantly lower revenue compared to top performers like Set and Kurta.\n",
    "\n",
    "Recommendation:\n",
    "\n",
    "•\tReassess product-market fit for underperforming categories.\n",
    "\n",
    "•\tReduce procurement or marketing spend on low-performing items.\n",
    "\n",
    "•\tConsider promotional campaigns or bundling strategies to clear stagnant inventory.\n",
    "\n",
    "________________________________________\n",
    "2. Stock Adjustments for Popular Products\n",
    "\n",
    "Insight: Products in top categories such as Set and Kurta are generating high revenue. However, SKU-level data shows frequent stockouts.\n",
    "\n",
    "Recommendation:\n",
    "\n",
    "•\tIncrease safety stock levels for fast-moving SKUs.\n",
    "\n",
    "•\tImplement predictive inventory models using monthly sales trends to align procurement cycles.\n",
    "\n",
    "•\tStrengthen vendor relationships to ensure timely restocking.\n",
    "\n",
    "________________________________________\n",
    "\n",
    "3. Fulfillment Efficiency\n",
    "\n",
    "Insight: Over 85% of revenue stems from orders marked as \"Shipped\", while \"Unshipped\" orders account for revenue leakage.\n",
    "Recommendation:\n",
    "\n",
    "•\tAutomate fulfillment workflows to minimize unshipped orders.\n",
    "\n",
    "•\tIntroduce fulfillment SLAs with internal and external logistics partners.\n",
    "\n",
    "•\tIntegrate real-time inventory sync between sales and warehouse systems.\n",
    "________________________________________\n",
    "\n",
    "4. Reducing Lost or Delayed Shipments\n",
    "\n",
    "Insight: Courier status data indicates gaps in delivery confirmations.\n",
    "\n",
    "Recommendation:\n",
    "\n",
    "•\tAudit courier service performance to identify loss or delay patterns.\n",
    "\n",
    "•\tEnable proactive shipment tracking for customers.\n",
    "\n",
    "•\tIncorporate barcode scanning at each delivery stage to reduce human error.\n",
    "\n",
    "________________________________________\n",
    "\n",
    "5. B2B Sales Potential\n",
    "\n",
    "Insight: The dataset contains B2B order identifiers, but overall B2B sales volume remains low.\n",
    "\n",
    "Recommendation:\n",
    "\n",
    "•\tLaunch targeted B2B marketing campaigns to capture high-volume buyers.\n",
    "\n",
    "•\tOffer discounts on bulk purchases and set up exclusive B2B storefronts.\n",
    "\n",
    "•\tPartner with institutional clients for steady recurring orders.\n"
   ]
  },
  {
   "cell_type": "markdown",
   "id": "b36b19b9",
   "metadata": {},
   "source": [
    "## Conclusion\n",
    "\n",
    "To maintain competitive advantage and improve profitability, it is essential to act on these data-driven recommendations. Emphasis on inventory optimization, fulfillment reliability, and B2B expansion will enable sustainable growth in the e-commerce landscape.\n"
   ]
  }
 ],
 "metadata": {
  "kernelspec": {
   "display_name": ".venv",
   "language": "python",
   "name": "python3"
  },
  "language_info": {
   "codemirror_mode": {
    "name": "ipython",
    "version": 3
   },
   "file_extension": ".py",
   "mimetype": "text/x-python",
   "name": "python",
   "nbconvert_exporter": "python",
   "pygments_lexer": "ipython3",
   "version": "3.13.0"
  }
 },
 "nbformat": 4,
 "nbformat_minor": 5
}
