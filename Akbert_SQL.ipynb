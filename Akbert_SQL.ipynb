{
 "cells": [
  {
   "cell_type": "code",
   "execution_count": 56,
   "id": "fe7f6bfc",
   "metadata": {},
   "outputs": [
    {
     "name": "stdout",
     "output_type": "stream",
     "text": [
      "Requirement already satisfied: pandas in c:\\users\\alber\\albert_sql-project-assignment-e-commerce-amazon-sales-analysis\\.venv\\lib\\site-packages (2.2.3)\n",
      "Requirement already satisfied: matplotlib in c:\\users\\alber\\albert_sql-project-assignment-e-commerce-amazon-sales-analysis\\.venv\\lib\\site-packages (3.10.3)\n",
      "Collecting seaborn\n",
      "  Using cached seaborn-0.13.2-py3-none-any.whl.metadata (5.4 kB)\n"
     ]
    },
    {
     "name": "stderr",
     "output_type": "stream",
     "text": [
      "ERROR: Could not find a version that satisfies the requirement sqlite3 (from versions: none)\n",
      "\n",
      "[notice] A new release of pip is available: 24.2 -> 25.1.1\n",
      "[notice] To update, run: python.exe -m pip install --upgrade pip\n",
      "ERROR: No matching distribution found for sqlite3\n"
     ]
    }
   ],
   "source": [
    "!pip install pandas matplotlib seaborn sqlite3 numpy pandas"
   ]
  },
  {
   "cell_type": "code",
   "execution_count": 57,
   "id": "5eedf923",
   "metadata": {},
   "outputs": [
    {
     "name": "stdout",
     "output_type": "stream",
     "text": [
      "Requirement already satisfied: pandas in c:\\users\\alber\\albert_sql-project-assignment-e-commerce-amazon-sales-analysis\\.venv\\lib\\site-packages (2.2.3)\n",
      "Requirement already satisfied: openpyxl in c:\\users\\alber\\albert_sql-project-assignment-e-commerce-amazon-sales-analysis\\.venv\\lib\\site-packages (3.1.5)\n",
      "Requirement already satisfied: numpy>=1.26.0 in c:\\users\\alber\\albert_sql-project-assignment-e-commerce-amazon-sales-analysis\\.venv\\lib\\site-packages (from pandas) (2.2.6)\n",
      "Requirement already satisfied: python-dateutil>=2.8.2 in c:\\users\\alber\\albert_sql-project-assignment-e-commerce-amazon-sales-analysis\\.venv\\lib\\site-packages (from pandas) (2.9.0.post0)\n",
      "Requirement already satisfied: pytz>=2020.1 in c:\\users\\alber\\albert_sql-project-assignment-e-commerce-amazon-sales-analysis\\.venv\\lib\\site-packages (from pandas) (2025.2)\n",
      "Requirement already satisfied: tzdata>=2022.7 in c:\\users\\alber\\albert_sql-project-assignment-e-commerce-amazon-sales-analysis\\.venv\\lib\\site-packages (from pandas) (2025.2)\n",
      "Requirement already satisfied: et-xmlfile in c:\\users\\alber\\albert_sql-project-assignment-e-commerce-amazon-sales-analysis\\.venv\\lib\\site-packages (from openpyxl) (2.0.0)\n",
      "Requirement already satisfied: six>=1.5 in c:\\users\\alber\\albert_sql-project-assignment-e-commerce-amazon-sales-analysis\\.venv\\lib\\site-packages (from python-dateutil>=2.8.2->pandas) (1.17.0)\n"
     ]
    },
    {
     "name": "stderr",
     "output_type": "stream",
     "text": [
      "\n",
      "[notice] A new release of pip is available: 24.2 -> 25.1.1\n",
      "[notice] To update, run: python.exe -m pip install --upgrade pip\n"
     ]
    }
   ],
   "source": [
    "!pip install pandas openpyxl\n"
   ]
  },
  {
   "cell_type": "code",
   "execution_count": 58,
   "id": "d31df214",
   "metadata": {},
   "outputs": [
    {
     "name": "stdout",
     "output_type": "stream",
     "text": [
      "Requirement already satisfied: matplotlib in c:\\users\\alber\\albert_sql-project-assignment-e-commerce-amazon-sales-analysis\\.venv\\lib\\site-packages (3.10.3)\n",
      "Requirement already satisfied: contourpy>=1.0.1 in c:\\users\\alber\\albert_sql-project-assignment-e-commerce-amazon-sales-analysis\\.venv\\lib\\site-packages (from matplotlib) (1.3.2)\n",
      "Requirement already satisfied: cycler>=0.10 in c:\\users\\alber\\albert_sql-project-assignment-e-commerce-amazon-sales-analysis\\.venv\\lib\\site-packages (from matplotlib) (0.12.1)\n",
      "Requirement already satisfied: fonttools>=4.22.0 in c:\\users\\alber\\albert_sql-project-assignment-e-commerce-amazon-sales-analysis\\.venv\\lib\\site-packages (from matplotlib) (4.58.1)\n",
      "Requirement already satisfied: kiwisolver>=1.3.1 in c:\\users\\alber\\albert_sql-project-assignment-e-commerce-amazon-sales-analysis\\.venv\\lib\\site-packages (from matplotlib) (1.4.8)\n",
      "Requirement already satisfied: numpy>=1.23 in c:\\users\\alber\\albert_sql-project-assignment-e-commerce-amazon-sales-analysis\\.venv\\lib\\site-packages (from matplotlib) (2.2.6)\n",
      "Requirement already satisfied: packaging>=20.0 in c:\\users\\alber\\albert_sql-project-assignment-e-commerce-amazon-sales-analysis\\.venv\\lib\\site-packages (from matplotlib) (25.0)\n",
      "Requirement already satisfied: pillow>=8 in c:\\users\\alber\\albert_sql-project-assignment-e-commerce-amazon-sales-analysis\\.venv\\lib\\site-packages (from matplotlib) (11.2.1)\n",
      "Requirement already satisfied: pyparsing>=2.3.1 in c:\\users\\alber\\albert_sql-project-assignment-e-commerce-amazon-sales-analysis\\.venv\\lib\\site-packages (from matplotlib) (3.2.3)\n",
      "Requirement already satisfied: python-dateutil>=2.7 in c:\\users\\alber\\albert_sql-project-assignment-e-commerce-amazon-sales-analysis\\.venv\\lib\\site-packages (from matplotlib) (2.9.0.post0)\n",
      "Requirement already satisfied: six>=1.5 in c:\\users\\alber\\albert_sql-project-assignment-e-commerce-amazon-sales-analysis\\.venv\\lib\\site-packages (from python-dateutil>=2.7->matplotlib) (1.17.0)\n"
     ]
    },
    {
     "name": "stderr",
     "output_type": "stream",
     "text": [
      "\n",
      "[notice] A new release of pip is available: 24.2 -> 25.1.1\n",
      "[notice] To update, run: python.exe -m pip install --upgrade pip\n"
     ]
    }
   ],
   "source": [
    "!pip install matplotlib"
   ]
  },
  {
   "cell_type": "code",
   "execution_count": 59,
   "id": "6b951c9f",
   "metadata": {},
   "outputs": [],
   "source": [
    "import pandas as pd\n",
    "import matplotlib.pyplot as plt\n",
    "import numpy as np\n",
    "import sqlite3\n",
    "\n"
   ]
  },
  {
   "cell_type": "code",
   "execution_count": null,
   "id": "14b473e2",
   "metadata": {},
   "outputs": [],
   "source": []
  },
  {
   "cell_type": "code",
   "execution_count": 60,
   "id": "0f74e730",
   "metadata": {},
   "outputs": [
    {
     "name": "stdout",
     "output_type": "stream",
     "text": [
      " Excel file imported into SQLite database as 'sales' table.\n"
     ]
    }
   ],
   "source": [
    "import pandas as pd\n",
    "import sqlite3\n",
    "# Load the Excel file\n",
    "df = pd.read_excel(\"Amazon Sale Report.xlsx\")  # Ensure this file is in the same folder\n",
    "\n",
    "# Connect to SQLite DB (creates file if it doesn't exist)\n",
    "conn = sqlite3.connect(\"amazon_sales.db\")\n",
    "\n",
    "# Write the data into a table named 'sales'\n",
    "df.to_sql(\"sales\", conn, if_exists=\"replace\", index=False)\n",
    "\n",
    "print(\" Excel file imported into SQLite database as 'sales' table.\")\n",
    "conn.close()"
   ]
  },
  {
   "cell_type": "code",
   "execution_count": 61,
   "id": "6561dcb3",
   "metadata": {},
   "outputs": [
    {
     "name": "stdout",
     "output_type": "stream",
     "text": [
      "   index             Order ID       Date                        Status  \\\n",
      "0      0  405-8078784-5731545 2022-04-30                     Cancelled   \n",
      "1      1  171-9198151-1101146 2022-04-30  Shipped - Delivered to Buyer   \n",
      "2      2  404-0687676-7273146 2022-04-30                       Shipped   \n",
      "3      3  403-9615377-8133951 2022-04-30                     Cancelled   \n",
      "4      4  407-1069790-7240320 2022-04-30                       Shipped   \n",
      "\n",
      "  Fulfilment Sales Channel  ship-service-level    Style              SKU  \\\n",
      "0   Merchant      Amazon.in           Standard   SET389   SET389-KR-NP-S   \n",
      "1   Merchant      Amazon.in           Standard  JNE3781  JNE3781-KR-XXXL   \n",
      "2     Amazon      Amazon.in          Expedited  JNE3371    JNE3371-KR-XL   \n",
      "3   Merchant      Amazon.in           Standard    J0341       J0341-DR-L   \n",
      "4     Amazon      Amazon.in          Expedited  JNE3671  JNE3671-TU-XXXL   \n",
      "\n",
      "        Category  ... currency  Amount    ship-city   ship-state  \\\n",
      "0            Set  ...      INR  647.62       MUMBAI  MAHARASHTRA   \n",
      "1          kurta  ...      INR  406.00    BENGALURU    KARNATAKA   \n",
      "2          kurta  ...      INR  329.00  NAVI MUMBAI  MAHARASHTRA   \n",
      "3  Western Dress  ...      INR  753.33   PUDUCHERRY   PUDUCHERRY   \n",
      "4            Top  ...      INR  574.00      CHENNAI   TAMIL NADU   \n",
      "\n",
      "  ship-postal-code  ship-country  \\\n",
      "0         400081.0            IN   \n",
      "1         560085.0            IN   \n",
      "2         410210.0            IN   \n",
      "3         605008.0            IN   \n",
      "4         600073.0            IN   \n",
      "\n",
      "                                       promotion-ids    B2B  fulfilled-by  \\\n",
      "0                                                NaN  False     Easy Ship   \n",
      "1  Amazon PLCC Free-Financing Universal Merchant ...  False     Easy Ship   \n",
      "2       IN Core Free Shipping 2015/04/08 23-48-5-108   True           NaN   \n",
      "3                                                NaN  False     Easy Ship   \n",
      "4                                                NaN  False           NaN   \n",
      "\n",
      "  Unnamed: 22  \n",
      "0         NaN  \n",
      "1         NaN  \n",
      "2         NaN  \n",
      "3         NaN  \n",
      "4         NaN  \n",
      "\n",
      "[5 rows x 24 columns]\n"
     ]
    }
   ],
   "source": [
    "# Inspect first rows of the DataFrame\n",
    "print(df.head())"
   ]
  },
  {
   "cell_type": "code",
   "execution_count": 62,
   "id": "39eb01ec",
   "metadata": {},
   "outputs": [
    {
     "name": "stdout",
     "output_type": "stream",
     "text": [
      "   index             Order ID       Date                        Status  \\\n",
      "0      0  405-8078784-5731545 2022-04-30                     Cancelled   \n",
      "1      1  171-9198151-1101146 2022-04-30  Shipped - Delivered to Buyer   \n",
      "2      2  404-0687676-7273146 2022-04-30                       Shipped   \n",
      "3      3  403-9615377-8133951 2022-04-30                     Cancelled   \n",
      "4      4  407-1069790-7240320 2022-04-30                       Shipped   \n",
      "5      5  404-1490984-4578765 2022-04-30                       Shipped   \n",
      "6      6  408-5748499-6859555 2022-04-30                       Shipped   \n",
      "7      7  406-7807733-3785945 2022-04-30  Shipped - Delivered to Buyer   \n",
      "8      8  407-5443024-5233168 2022-04-30                     Cancelled   \n",
      "9      9  402-4393761-0311520 2022-04-30                       Shipped   \n",
      "\n",
      "  Fulfilment Sales Channel  ship-service-level    Style                  SKU  \\\n",
      "0   Merchant      Amazon.in           Standard   SET389       SET389-KR-NP-S   \n",
      "1   Merchant      Amazon.in           Standard  JNE3781      JNE3781-KR-XXXL   \n",
      "2     Amazon      Amazon.in          Expedited  JNE3371        JNE3371-KR-XL   \n",
      "3   Merchant      Amazon.in           Standard    J0341           J0341-DR-L   \n",
      "4     Amazon      Amazon.in          Expedited  JNE3671      JNE3671-TU-XXXL   \n",
      "5     Amazon      Amazon.in          Expedited   SET264      SET264-KR-NP-XL   \n",
      "6     Amazon      Amazon.in          Expedited    J0095          J0095-SET-L   \n",
      "7   Merchant      Amazon.in           Standard  JNE3405         JNE3405-KR-S   \n",
      "8     Amazon      Amazon.in          Expedited   SET200  SET200-KR-NP-A-XXXL   \n",
      "9     Amazon      Amazon.in          Expedited  JNE3461       JNE3461-KR-XXL   \n",
      "\n",
      "        Category  ... currency  Amount    ship-city     ship-state  \\\n",
      "0            Set  ...      INR  647.62       MUMBAI    MAHARASHTRA   \n",
      "1          kurta  ...      INR  406.00    BENGALURU      KARNATAKA   \n",
      "2          kurta  ...      INR  329.00  NAVI MUMBAI    MAHARASHTRA   \n",
      "3  Western Dress  ...      INR  753.33   PUDUCHERRY     PUDUCHERRY   \n",
      "4            Top  ...      INR  574.00      CHENNAI     TAMIL NADU   \n",
      "5            Set  ...      INR  824.00    GHAZIABAD  UTTAR PRADESH   \n",
      "6            Set  ...      INR  653.00   CHANDIGARH     CHANDIGARH   \n",
      "7          kurta  ...      INR  399.00    HYDERABAD      TELANGANA   \n",
      "8            Set  ...      NaN     NaN    HYDERABAD      TELANGANA   \n",
      "9          kurta  ...      INR  363.00      Chennai     TAMIL NADU   \n",
      "\n",
      "  ship-postal-code  ship-country  \\\n",
      "0         400081.0            IN   \n",
      "1         560085.0            IN   \n",
      "2         410210.0            IN   \n",
      "3         605008.0            IN   \n",
      "4         600073.0            IN   \n",
      "5         201102.0            IN   \n",
      "6         160036.0            IN   \n",
      "7         500032.0            IN   \n",
      "8         500008.0            IN   \n",
      "9         600041.0            IN   \n",
      "\n",
      "                                       promotion-ids    B2B  fulfilled-by  \\\n",
      "0                                                NaN  False     Easy Ship   \n",
      "1  Amazon PLCC Free-Financing Universal Merchant ...  False     Easy Ship   \n",
      "2       IN Core Free Shipping 2015/04/08 23-48-5-108   True           NaN   \n",
      "3                                                NaN  False     Easy Ship   \n",
      "4                                                NaN  False           NaN   \n",
      "5       IN Core Free Shipping 2015/04/08 23-48-5-108  False           NaN   \n",
      "6       IN Core Free Shipping 2015/04/08 23-48-5-108  False           NaN   \n",
      "7  Amazon PLCC Free-Financing Universal Merchant ...  False     Easy Ship   \n",
      "8       IN Core Free Shipping 2015/04/08 23-48-5-108  False           NaN   \n",
      "9                                                NaN  False           NaN   \n",
      "\n",
      "  Unnamed: 22  \n",
      "0         NaN  \n",
      "1         NaN  \n",
      "2         NaN  \n",
      "3         NaN  \n",
      "4         NaN  \n",
      "5         NaN  \n",
      "6         NaN  \n",
      "7         NaN  \n",
      "8         NaN  \n",
      "9         NaN  \n",
      "\n",
      "[10 rows x 24 columns]\n",
      "(128975, 24)\n",
      "index                          int64\n",
      "Order ID                      object\n",
      "Date                  datetime64[ns]\n",
      "Status                        object\n",
      "Fulfilment                    object\n",
      "Sales Channel                 object\n",
      "ship-service-level            object\n",
      "Style                         object\n",
      "SKU                           object\n",
      "Category                      object\n",
      "Size                          object\n",
      "ASIN                          object\n",
      "Courier Status                object\n",
      "Qty                            int64\n",
      "currency                      object\n",
      "Amount                       float64\n",
      "ship-city                     object\n",
      "ship-state                    object\n",
      "ship-postal-code             float64\n",
      "ship-country                  object\n",
      "promotion-ids                 object\n",
      "B2B                             bool\n",
      "fulfilled-by                  object\n",
      "Unnamed: 22                  float64\n",
      "dtype: object\n"
     ]
    }
   ],
   "source": [
    "print(df.head(10))\n",
    "print(df.shape)\n",
    "print(df.dtypes)"
   ]
  },
  {
   "cell_type": "code",
   "execution_count": 63,
   "id": "91c001d8",
   "metadata": {},
   "outputs": [
    {
     "name": "stdout",
     "output_type": "stream",
     "text": [
      "🔍 Missing values per column:\n",
      "index                     0\n",
      "Order ID                  0\n",
      "Date                      0\n",
      "Status                    0\n",
      "Fulfilment                0\n",
      "Sales Channel             0\n",
      "ship-service-level        0\n",
      "Style                     0\n",
      "SKU                       0\n",
      "Category                  0\n",
      "Size                      0\n",
      "ASIN                      0\n",
      "Courier Status         6872\n",
      "Qty                       0\n",
      "currency               7795\n",
      "Amount                 7795\n",
      "ship-city                33\n",
      "ship-state               33\n",
      "ship-postal-code         33\n",
      "ship-country             33\n",
      "promotion-ids         49153\n",
      "B2B                       0\n",
      "fulfilled-by          89698\n",
      "Unnamed: 22           49050\n",
      "dtype: int64\n"
     ]
    }
   ],
   "source": [
    "# Step 1: View missing values\n",
    "print(\"🔍 Missing values per column:\")\n",
    "print(df.isnull().sum())"
   ]
  },
  {
   "cell_type": "markdown",
   "id": "0352e3a1",
   "metadata": {},
   "source": [
    "### Initial Descriptive Statistics"
   ]
  },
  {
   "cell_type": "code",
   "execution_count": 64,
   "id": "5839ddcb",
   "metadata": {},
   "outputs": [
    {
     "name": "stdout",
     "output_type": "stream",
     "text": [
      "               index                           Date            Qty  \\\n",
      "count  128975.000000                         128975  128975.000000   \n",
      "mean    64487.000000  2022-05-12 11:49:27.951928576       0.904431   \n",
      "min         0.000000            2022-03-31 00:00:00       0.000000   \n",
      "25%     32243.500000            2022-04-20 00:00:00       1.000000   \n",
      "50%     64487.000000            2022-05-10 00:00:00       1.000000   \n",
      "75%     96730.500000            2022-06-04 00:00:00       1.000000   \n",
      "max    128974.000000            2022-06-29 00:00:00      15.000000   \n",
      "std     37232.019822                            NaN       0.313354   \n",
      "\n",
      "              Amount  ship-postal-code  Unnamed: 22  \n",
      "count  121180.000000     128942.000000      79925.0  \n",
      "mean      648.561465     463966.236509          0.0  \n",
      "min         0.000000     110001.000000          0.0  \n",
      "25%       449.000000     382421.000000          0.0  \n",
      "50%       605.000000     500033.000000          0.0  \n",
      "75%       788.000000     600024.000000          0.0  \n",
      "max      5584.000000     989898.000000          0.0  \n",
      "std       281.211687     191476.764941          0.0  \n"
     ]
    }
   ],
   "source": [
    "print(df.describe())\n"
   ]
  },
  {
   "cell_type": "code",
   "execution_count": 65,
   "id": "2386b971",
   "metadata": {},
   "outputs": [
    {
     "name": "stdout",
     "output_type": "stream",
     "text": [
      "Original columns: ['index', 'Order ID', 'Date', 'Status', 'Fulfilment', 'Sales Channel ', 'ship-service-level', 'Style', 'SKU', 'Category', 'Size', 'ASIN', 'Courier Status', 'Qty', 'currency', 'Amount', 'ship-city', 'ship-state', 'ship-postal-code', 'ship-country', 'promotion-ids', 'B2B', 'fulfilled-by', 'Unnamed: 22']\n"
     ]
    }
   ],
   "source": [
    "# Step 2: Display original column names\n",
    "print(\"Original columns:\", df.columns.tolist())"
   ]
  },
  {
   "cell_type": "code",
   "execution_count": 66,
   "id": "84d3ed80",
   "metadata": {},
   "outputs": [],
   "source": [
    "# Step 3: Drop rows with critical missing values\n",
    "df = df.dropna(subset=[\"Order ID\", \"Date\", \"Qty\", \"Amount\"])\n"
   ]
  },
  {
   "cell_type": "code",
   "execution_count": 67,
   "id": "b0c2ef6f",
   "metadata": {},
   "outputs": [],
   "source": [
    "# Step 4: Rename columns for SQL compatibility\n",
    "df.rename(columns={\n",
    "    \"Order ID\": \"Order_ID\",\n",
    "    \"Date\": \"Order_Date\",\n",
    "    \"Sales Channel \": \"Sales_Channel\",\n",
    "    \"ship-service-level\": \"Ship_Service_Level\",\n",
    "    \"Courier Status\": \"Courier_Status\",\n",
    "    \"Qty\": \"Quantity_Ordered\",\n",
    "    \"Amount\": \"Total_Revenue\",\n",
    "    \"ship-city\": \"Ship_City\",\n",
    "    \"ship-state\": \"Ship_State\",\n",
    "    \"ship-postal-code\": \"Ship_Postal_Code\",\n",
    "    \"ship-country\": \"Ship_Country\"\n",
    "}, inplace=True)\n",
    "\n"
   ]
  },
  {
   "cell_type": "code",
   "execution_count": 68,
   "id": "ac102ecc",
   "metadata": {},
   "outputs": [],
   "source": [
    "# Step 5: Drop unnamed columns (like 'Unnamed: 22' or similar)\n",
    "df = df.loc[:, ~df.columns.str.contains('^Unnamed')]\n",
    "\n"
   ]
  },
  {
   "cell_type": "code",
   "execution_count": 69,
   "id": "e849fc06",
   "metadata": {},
   "outputs": [],
   "source": [
    "# Step 6: Convert data types\n",
    "df[\"Order_Date\"] = pd.to_datetime(df[\"Order_Date\"], errors='coerce')\n",
    "df[\"Quantity_Ordered\"] = pd.to_numeric(df[\"Quantity_Ordered\"], errors='coerce')\n",
    "df[\"Total_Revenue\"] = pd.to_numeric(df[\"Total_Revenue\"], errors='coerce')\n",
    "\n"
   ]
  },
  {
   "cell_type": "code",
   "execution_count": 70,
   "id": "62b84324",
   "metadata": {},
   "outputs": [],
   "source": [
    "# Step 7: Remove duplicate rows\n",
    "df.drop_duplicates(inplace=True)\n",
    "\n"
   ]
  },
  {
   "cell_type": "code",
   "execution_count": 71,
   "id": "084b4dae",
   "metadata": {},
   "outputs": [
    {
     "name": "stdout",
     "output_type": "stream",
     "text": [
      " Data cleaning completed and saved to SQLite as 'sales' table.\n"
     ]
    }
   ],
   "source": [
    "# Step 8: Export cleaned DataFrame to SQLite\n",
    "conn = sqlite3.connect(\"amazon_sales.db\")\n",
    "df.to_sql(\"sales\", conn, if_exists=\"replace\", index=False)\n",
    "conn.close()\n",
    "\n",
    "print(\" Data cleaning completed and saved to SQLite as 'sales' table.\")"
   ]
  }
 ],
 "metadata": {
  "kernelspec": {
   "display_name": ".venv",
   "language": "python",
   "name": "python3"
  },
  "language_info": {
   "codemirror_mode": {
    "name": "ipython",
    "version": 3
   },
   "file_extension": ".py",
   "mimetype": "text/x-python",
   "name": "python",
   "nbconvert_exporter": "python",
   "pygments_lexer": "ipython3",
   "version": "3.13.0"
  }
 },
 "nbformat": 4,
 "nbformat_minor": 5
}
